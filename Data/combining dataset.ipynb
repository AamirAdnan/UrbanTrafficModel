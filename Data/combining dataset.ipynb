{
 "cells": [
  {
   "cell_type": "markdown",
   "id": "87eb448b",
   "metadata": {},
   "source": [
    "# Merging diffrent dataset to and creating the pipeline"
   ]
  },
  {
   "cell_type": "code",
   "execution_count": 1,
   "id": "7118bb3e",
   "metadata": {},
   "outputs": [],
   "source": [
    "import pandas as pd\n",
    "weather_df = pd.read_csv('weatherHistory.csv')\n",
    "weather_df['Formatted Date'] = pd.to_datetime(weather_df['Formatted Date'], format='%Y-%m-%d %H:%M:%S.%f %z')"
   ]
  },
  {
   "cell_type": "markdown",
   "id": "5cb69f82",
   "metadata": {},
   "source": [
    "### Load Dataset"
   ]
  },
  {
   "cell_type": "code",
   "execution_count": 2,
   "id": "97e7a6ea",
   "metadata": {},
   "outputs": [],
   "source": [
    "# Load datasets\n",
    "traffic_df = pd.read_csv('traffic.csv', parse_dates=['DateTime'])\n",
    "weather_df = pd.read_csv('weatherHistory.csv', parse_dates=['Formatted Date'])\n",
    "events_df = pd.read_csv('festivals_kaggle.csv', parse_dates=['Date'])\n",
    "weather_df = pd.read_csv('weatherHistory.csv')"
   ]
  },
  {
   "cell_type": "markdown",
   "id": "887fca16",
   "metadata": {},
   "source": [
    "# Convert to datetime and handle irregular dates dates"
   ]
  },
  {
   "cell_type": "code",
   "execution_count": 6,
   "id": "f30bdce8",
   "metadata": {},
   "outputs": [
    {
     "name": "stderr",
     "output_type": "stream",
     "text": [
      "C:\\Users\\amira\\AppData\\Local\\Temp\\ipykernel_15040\\122036971.py:15: DeprecationWarning: In a future version, `df.iloc[:, i] = newvals` will attempt to set the values inplace instead of always setting a new array. To retain the old behavior, use either `df[df.columns[i]] = newvals` or, if columns are non-unique, `df.isetitem(i, newvals)`\n",
      "  weather_df.loc[weather_df['Formatted Date'].notna(), 'Formatted Date'] = weather_df.loc[weather_df['Formatted Date'].notna(), 'Formatted Date'].dt.tz_localize(None)\n"
     ]
    }
   ],
   "source": [
    "# Assuming weather_df['Formatted Date'] is a string representation of datetime\n",
    "weather_df['Formatted Date'] = pd.to_datetime(weather_df['Formatted Date'], utc=True)\n",
    "\n",
    "# Now convert to naive datetime (remove timezone information)\n",
    "weather_df['Formatted Date'] = weather_df['Formatted Date'].dt.tz_localize(None)\n",
    "\n",
    "def safe_to_datetime(series):\n",
    "    return pd.to_datetime(series, errors='coerce')\n",
    "\n",
    "# Apply safe_to_datetime and handle NaT values\n",
    "traffic_df['DateTime'] = safe_to_datetime(traffic_df['DateTime'])\n",
    "traffic_df['DateTime'] = traffic_df['DateTime'].dt.tz_localize(None)\n",
    "\n",
    "weather_df['Formatted Date'] = safe_to_datetime(weather_df['Formatted Date'])\n",
    "weather_df.loc[weather_df['Formatted Date'].notna(), 'Formatted Date'] = weather_df.loc[weather_df['Formatted Date'].notna(), 'Formatted Date'].dt.tz_localize(None)\n",
    "\n",
    "events_df['Date'] = safe_to_datetime(events_df['Date'])\n",
    "events_df['Date'] = events_df['Date'].dt.tz_localize(None)\n"
   ]
  },
  {
   "cell_type": "markdown",
   "id": "72d18b96",
   "metadata": {},
   "source": [
    "# Handling missing values "
   ]
  },
  {
   "cell_type": "code",
   "execution_count": 8,
   "id": "0b175928",
   "metadata": {},
   "outputs": [],
   "source": [
    "traffic_df = traffic_df.dropna(subset=['DateTime'])\n",
    "weather_df = weather_df.dropna(subset=['Formatted Date'])\n",
    "events_df = events_df.dropna(subset=['Date'])"
   ]
  },
  {
   "cell_type": "code",
   "execution_count": 9,
   "id": "5d5bb3be",
   "metadata": {},
   "outputs": [],
   "source": [
    "#Converting all dates to the same format"
   ]
  },
  {
   "cell_type": "code",
   "execution_count": 10,
   "id": "03e2a195",
   "metadata": {},
   "outputs": [],
   "source": [
    "traffic_df['DateTime'] = traffic_df['DateTime'].dt.strftime('%Y-%m-%d %H:%M:%S')\n",
    "weather_df['Formatted Date'] = weather_df['Formatted Date'].dt.strftime('%Y-%m-%d %H:%M:%S')\n",
    "events_df['Date'] = events_df['Date'].dt.strftime('%Y-%m-%d %H:%M:%S')"
   ]
  },
  {
   "cell_type": "code",
   "execution_count": 11,
   "id": "79d4a52b",
   "metadata": {},
   "outputs": [],
   "source": [
    "traffic_df['DateTime'] = pd.to_datetime(traffic_df['DateTime'])\n",
    "weather_df['Formatted Date'] = pd.to_datetime(weather_df['Formatted Date'])\n",
    "events_df['Date'] = pd.to_datetime(events_df['Date'])"
   ]
  },
  {
   "cell_type": "markdown",
   "id": "747421fb",
   "metadata": {},
   "source": [
    "# replacing the name of all 3 colums to single one for easy mearging"
   ]
  },
  {
   "cell_type": "code",
   "execution_count": 12,
   "id": "520de8ce",
   "metadata": {},
   "outputs": [],
   "source": [
    "weather_df.rename(columns={'Formatted Date': 'DateTime'}, inplace=True)\n",
    "events_df.rename(columns={'Date': 'DateTime'}, inplace=True)"
   ]
  },
  {
   "cell_type": "markdown",
   "id": "f9fac15d",
   "metadata": {},
   "source": [
    "# Merging by common value that is hour in all three dataset"
   ]
  },
  {
   "cell_type": "code",
   "execution_count": 13,
   "id": "fda40692",
   "metadata": {},
   "outputs": [],
   "source": [
    "traffic_df['DateTime'] = traffic_df['DateTime'].dt.floor('H')\n",
    "weather_df['DateTime'] = weather_df['DateTime'].dt.floor('H')\n",
    "events_df['DateTime'] = events_df['DateTime'].dt.floor('H')"
   ]
  },
  {
   "cell_type": "code",
   "execution_count": 14,
   "id": "da9bfbc8",
   "metadata": {},
   "outputs": [],
   "source": [
    "merged_df = pd.merge(traffic_df, weather_df, on='DateTime', how='outer')"
   ]
  },
  {
   "cell_type": "code",
   "execution_count": 15,
   "id": "458ea9d5",
   "metadata": {},
   "outputs": [],
   "source": [
    "merged_df = pd.merge(merged_df, events_df, on='DateTime', how='outer')"
   ]
  },
  {
   "cell_type": "code",
   "execution_count": 16,
   "id": "f098db38",
   "metadata": {},
   "outputs": [],
   "source": [
    "merged_df.fillna(method='ffill', inplace=True)"
   ]
  },
  {
   "cell_type": "markdown",
   "id": "43428a1d",
   "metadata": {},
   "source": [
    "# final cleaning of dataset by droping the unwanted colums"
   ]
  },
  {
   "cell_type": "code",
   "execution_count": 23,
   "id": "9fbae23f",
   "metadata": {},
   "outputs": [],
   "source": [
    "merged_df.head()\n",
    "merged_df.drop(columns=['Id','Day','Year','Daily Summary','Id'],inplace=True)"
   ]
  },
  {
   "cell_type": "code",
   "execution_count": 24,
   "id": "06942a98",
   "metadata": {},
   "outputs": [],
   "source": [
    "merged_df.to_csv('merged_data_AamirAdnan.csv', index=False)"
   ]
  },
  {
   "cell_type": "code",
   "execution_count": 25,
   "id": "1d0a7237",
   "metadata": {},
   "outputs": [
    {
     "data": {
      "text/html": [
       "<div>\n",
       "<style scoped>\n",
       "    .dataframe tbody tr th:only-of-type {\n",
       "        vertical-align: middle;\n",
       "    }\n",
       "\n",
       "    .dataframe tbody tr th {\n",
       "        vertical-align: top;\n",
       "    }\n",
       "\n",
       "    .dataframe thead th {\n",
       "        text-align: right;\n",
       "    }\n",
       "</style>\n",
       "<table border=\"1\" class=\"dataframe\">\n",
       "  <thead>\n",
       "    <tr style=\"text-align: right;\">\n",
       "      <th></th>\n",
       "      <th>DateTime</th>\n",
       "      <th>Junction</th>\n",
       "      <th>Vehicles</th>\n",
       "      <th>ID</th>\n",
       "      <th>Summary</th>\n",
       "      <th>Precip Type</th>\n",
       "      <th>Temperature (C)</th>\n",
       "      <th>Apparent Temperature (C)</th>\n",
       "      <th>Humidity</th>\n",
       "      <th>Wind Speed (km/h)</th>\n",
       "      <th>Wind Bearing (degrees)</th>\n",
       "      <th>Visibility (km)</th>\n",
       "      <th>Loud Cover</th>\n",
       "      <th>Pressure (millibars)</th>\n",
       "      <th>Festival name</th>\n",
       "    </tr>\n",
       "  </thead>\n",
       "  <tbody>\n",
       "    <tr>\n",
       "      <th>0</th>\n",
       "      <td>2015-01-11 00:00:00</td>\n",
       "      <td>1.0</td>\n",
       "      <td>15.0</td>\n",
       "      <td>2.015110e+10</td>\n",
       "      <td>Partly Cloudy</td>\n",
       "      <td>rain</td>\n",
       "      <td>1.483333</td>\n",
       "      <td>-1.711111</td>\n",
       "      <td>0.92</td>\n",
       "      <td>10.7709</td>\n",
       "      <td>201.0</td>\n",
       "      <td>8.6457</td>\n",
       "      <td>0.0</td>\n",
       "      <td>1010.86</td>\n",
       "      <td>NaN</td>\n",
       "    </tr>\n",
       "    <tr>\n",
       "      <th>1</th>\n",
       "      <td>2015-01-11 00:00:00</td>\n",
       "      <td>2.0</td>\n",
       "      <td>6.0</td>\n",
       "      <td>2.015110e+10</td>\n",
       "      <td>Partly Cloudy</td>\n",
       "      <td>rain</td>\n",
       "      <td>1.483333</td>\n",
       "      <td>-1.711111</td>\n",
       "      <td>0.92</td>\n",
       "      <td>10.7709</td>\n",
       "      <td>201.0</td>\n",
       "      <td>8.6457</td>\n",
       "      <td>0.0</td>\n",
       "      <td>1010.86</td>\n",
       "      <td>NaN</td>\n",
       "    </tr>\n",
       "    <tr>\n",
       "      <th>2</th>\n",
       "      <td>2015-01-11 00:00:00</td>\n",
       "      <td>3.0</td>\n",
       "      <td>9.0</td>\n",
       "      <td>2.015110e+10</td>\n",
       "      <td>Partly Cloudy</td>\n",
       "      <td>rain</td>\n",
       "      <td>1.483333</td>\n",
       "      <td>-1.711111</td>\n",
       "      <td>0.92</td>\n",
       "      <td>10.7709</td>\n",
       "      <td>201.0</td>\n",
       "      <td>8.6457</td>\n",
       "      <td>0.0</td>\n",
       "      <td>1010.86</td>\n",
       "      <td>NaN</td>\n",
       "    </tr>\n",
       "    <tr>\n",
       "      <th>3</th>\n",
       "      <td>2015-01-11 01:00:00</td>\n",
       "      <td>1.0</td>\n",
       "      <td>13.0</td>\n",
       "      <td>2.015110e+10</td>\n",
       "      <td>Partly Cloudy</td>\n",
       "      <td>rain</td>\n",
       "      <td>1.911111</td>\n",
       "      <td>-1.188889</td>\n",
       "      <td>0.92</td>\n",
       "      <td>10.7387</td>\n",
       "      <td>184.0</td>\n",
       "      <td>7.4865</td>\n",
       "      <td>0.0</td>\n",
       "      <td>1010.78</td>\n",
       "      <td>NaN</td>\n",
       "    </tr>\n",
       "    <tr>\n",
       "      <th>4</th>\n",
       "      <td>2015-01-11 01:00:00</td>\n",
       "      <td>2.0</td>\n",
       "      <td>6.0</td>\n",
       "      <td>2.015110e+10</td>\n",
       "      <td>Partly Cloudy</td>\n",
       "      <td>rain</td>\n",
       "      <td>1.911111</td>\n",
       "      <td>-1.188889</td>\n",
       "      <td>0.92</td>\n",
       "      <td>10.7387</td>\n",
       "      <td>184.0</td>\n",
       "      <td>7.4865</td>\n",
       "      <td>0.0</td>\n",
       "      <td>1010.78</td>\n",
       "      <td>NaN</td>\n",
       "    </tr>\n",
       "  </tbody>\n",
       "</table>\n",
       "</div>"
      ],
      "text/plain": [
       "             DateTime  Junction  Vehicles            ID        Summary  \\\n",
       "0 2015-01-11 00:00:00       1.0      15.0  2.015110e+10  Partly Cloudy   \n",
       "1 2015-01-11 00:00:00       2.0       6.0  2.015110e+10  Partly Cloudy   \n",
       "2 2015-01-11 00:00:00       3.0       9.0  2.015110e+10  Partly Cloudy   \n",
       "3 2015-01-11 01:00:00       1.0      13.0  2.015110e+10  Partly Cloudy   \n",
       "4 2015-01-11 01:00:00       2.0       6.0  2.015110e+10  Partly Cloudy   \n",
       "\n",
       "  Precip Type  Temperature (C)  Apparent Temperature (C)  Humidity  \\\n",
       "0        rain         1.483333                 -1.711111      0.92   \n",
       "1        rain         1.483333                 -1.711111      0.92   \n",
       "2        rain         1.483333                 -1.711111      0.92   \n",
       "3        rain         1.911111                 -1.188889      0.92   \n",
       "4        rain         1.911111                 -1.188889      0.92   \n",
       "\n",
       "   Wind Speed (km/h)  Wind Bearing (degrees)  Visibility (km)  Loud Cover  \\\n",
       "0            10.7709                   201.0           8.6457         0.0   \n",
       "1            10.7709                   201.0           8.6457         0.0   \n",
       "2            10.7709                   201.0           8.6457         0.0   \n",
       "3            10.7387                   184.0           7.4865         0.0   \n",
       "4            10.7387                   184.0           7.4865         0.0   \n",
       "\n",
       "   Pressure (millibars)  Festival name  \n",
       "0               1010.86            NaN  \n",
       "1               1010.86            NaN  \n",
       "2               1010.86            NaN  \n",
       "3               1010.78            NaN  \n",
       "4               1010.78            NaN  "
      ]
     },
     "execution_count": 25,
     "metadata": {},
     "output_type": "execute_result"
    }
   ],
   "source": [
    "merged_df.head()"
   ]
  },
  {
   "cell_type": "code",
   "execution_count": null,
   "id": "8737b1c6",
   "metadata": {},
   "outputs": [],
   "source": []
  }
 ],
 "metadata": {
  "kernelspec": {
   "display_name": "Python 3 (ipykernel)",
   "language": "python",
   "name": "python3"
  },
  "language_info": {
   "codemirror_mode": {
    "name": "ipython",
    "version": 3
   },
   "file_extension": ".py",
   "mimetype": "text/x-python",
   "name": "python",
   "nbconvert_exporter": "python",
   "pygments_lexer": "ipython3",
   "version": "3.10.9"
  }
 },
 "nbformat": 4,
 "nbformat_minor": 5
}
